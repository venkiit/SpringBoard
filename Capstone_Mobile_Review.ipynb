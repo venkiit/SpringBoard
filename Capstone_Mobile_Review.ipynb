{
  "nbformat": 4,
  "nbformat_minor": 0,
  "metadata": {
    "colab": {
      "name": "Capstone_Mobile_Review.ipynb",
      "provenance": []
    },
    "kernelspec": {
      "display_name": "Python 3",
      "language": "python",
      "name": "python3"
    }
  },
  "cells": [
    {
      "cell_type": "code",
      "metadata": {
        "id": "_83NdGfBkCCm"
      },
      "source": [
        "#Import all the necessary modules\n",
        "import pandas as pd\n",
        "import numpy as np\n",
        "import matplotlib.pyplot as plt\n",
        "import seaborn as sns"
      ],
      "execution_count": null,
      "outputs": []
    },
    {
      "cell_type": "code",
      "metadata": {
        "id": "ZMVE5_OqkCCp",
        "outputId": "8fea26cd-b529-405a-e52a-f91e2cf28f21"
      },
      "source": [
        "# Creating the Dataframe from the datafile\n",
        "Text_df = pd.read_csv('MI_Note5_Reviews_Amazon_subset.csv')\n",
        "Text_df.head()"
      ],
      "execution_count": null,
      "outputs": [
        {
          "output_type": "execute_result",
          "data": {
            "text/html": [
              "<div>\n",
              "<style scoped>\n",
              "    .dataframe tbody tr th:only-of-type {\n",
              "        vertical-align: middle;\n",
              "    }\n",
              "\n",
              "    .dataframe tbody tr th {\n",
              "        vertical-align: top;\n",
              "    }\n",
              "\n",
              "    .dataframe thead th {\n",
              "        text-align: right;\n",
              "    }\n",
              "</style>\n",
              "<table border=\"1\" class=\"dataframe\">\n",
              "  <thead>\n",
              "    <tr style=\"text-align: right;\">\n",
              "      <th></th>\n",
              "      <th>Product</th>\n",
              "      <th>Review_Subject</th>\n",
              "      <th>Review_Detail</th>\n",
              "      <th>Review_date</th>\n",
              "      <th>Rating</th>\n",
              "      <th>Product_spec</th>\n",
              "      <th>Purchaser</th>\n",
              "      <th>Reviewer</th>\n",
              "      <th>Usefulness</th>\n",
              "    </tr>\n",
              "  </thead>\n",
              "  <tbody>\n",
              "    <tr>\n",
              "      <th>0</th>\n",
              "      <td>Mi Note 5</td>\n",
              "      <td>Hands are getting vibrated when keep in hand f...</td>\n",
              "      <td>Hi all,\\nWhen we just keep the mobile in hand ...</td>\n",
              "      <td>10-Sep-18</td>\n",
              "      <td>1.0 out of 5 stars</td>\n",
              "      <td>Colour: GoldSize: 32 GB</td>\n",
              "      <td>Verified Purchase</td>\n",
              "      <td>shiva</td>\n",
              "      <td>19 people found this helpful</td>\n",
              "    </tr>\n",
              "    <tr>\n",
              "      <th>1</th>\n",
              "      <td>Mi Note 5</td>\n",
              "      <td>dont buy the REDMI 5</td>\n",
              "      <td>its automatically rebooting and freezing 20 to...</td>\n",
              "      <td>19-Sep-18</td>\n",
              "      <td>1.0 out of 5 stars</td>\n",
              "      <td>Colour: BlackSize: 64 GB</td>\n",
              "      <td>Verified Purchase</td>\n",
              "      <td>Amazon Customer</td>\n",
              "      <td>13 people found this helpful</td>\n",
              "    </tr>\n",
              "    <tr>\n",
              "      <th>2</th>\n",
              "      <td>Mi Note 5</td>\n",
              "      <td>Product for average price with best Quality..!</td>\n",
              "      <td>Battery backup is too good\\nyou can play hd ga...</td>\n",
              "      <td>25-Sep-18</td>\n",
              "      <td>4.0 out of 5 stars</td>\n",
              "      <td>Colour: BlackSize: 32 GB</td>\n",
              "      <td>Verified Purchase</td>\n",
              "      <td>Prasannakumar Nair</td>\n",
              "      <td>15 people found this helpful</td>\n",
              "    </tr>\n",
              "    <tr>\n",
              "      <th>3</th>\n",
              "      <td>Mi Note 5</td>\n",
              "      <td>Great phone @ super great price</td>\n",
              "      <td>Best in the segment. I ordered it for my siste...</td>\n",
              "      <td>21-Sep-18</td>\n",
              "      <td>5.0 out of 5 stars</td>\n",
              "      <td>Colour: BlackSize: 32 GB</td>\n",
              "      <td>Verified Purchase</td>\n",
              "      <td>D. Dhondiyal</td>\n",
              "      <td>6 people found this helpful</td>\n",
              "    </tr>\n",
              "    <tr>\n",
              "      <th>4</th>\n",
              "      <td>Mi Note 5</td>\n",
              "      <td>Fast working phone.</td>\n",
              "      <td>I love xiaomi product because I am using Mi Ma...</td>\n",
              "      <td>06-Aug-18</td>\n",
              "      <td>5.0 out of 5 stars</td>\n",
              "      <td>Colour: GoldSize: 64 GB</td>\n",
              "      <td>Verified Purchase</td>\n",
              "      <td>PARMANAND MAURYA</td>\n",
              "      <td>6 people found this helpful</td>\n",
              "    </tr>\n",
              "  </tbody>\n",
              "</table>\n",
              "</div>"
            ],
            "text/plain": [
              "     Product                                     Review_Subject  \\\n",
              "0  Mi Note 5  Hands are getting vibrated when keep in hand f...   \n",
              "1  Mi Note 5                               dont buy the REDMI 5   \n",
              "2  Mi Note 5     Product for average price with best Quality..!   \n",
              "3  Mi Note 5                    Great phone @ super great price   \n",
              "4  Mi Note 5                                Fast working phone.   \n",
              "\n",
              "                                       Review_Detail Review_date  \\\n",
              "0  Hi all,\\nWhen we just keep the mobile in hand ...   10-Sep-18   \n",
              "1  its automatically rebooting and freezing 20 to...   19-Sep-18   \n",
              "2  Battery backup is too good\\nyou can play hd ga...   25-Sep-18   \n",
              "3  Best in the segment. I ordered it for my siste...   21-Sep-18   \n",
              "4  I love xiaomi product because I am using Mi Ma...   06-Aug-18   \n",
              "\n",
              "               Rating              Product_spec          Purchaser  \\\n",
              "0  1.0 out of 5 stars   Colour: GoldSize: 32 GB  Verified Purchase   \n",
              "1  1.0 out of 5 stars  Colour: BlackSize: 64 GB  Verified Purchase   \n",
              "2  4.0 out of 5 stars  Colour: BlackSize: 32 GB  Verified Purchase   \n",
              "3  5.0 out of 5 stars  Colour: BlackSize: 32 GB  Verified Purchase   \n",
              "4  5.0 out of 5 stars   Colour: GoldSize: 64 GB  Verified Purchase   \n",
              "\n",
              "             Reviewer                    Usefulness  \n",
              "0               shiva  19 people found this helpful  \n",
              "1     Amazon Customer  13 people found this helpful  \n",
              "2  Prasannakumar Nair  15 people found this helpful  \n",
              "3        D. Dhondiyal   6 people found this helpful  \n",
              "4    PARMANAND MAURYA   6 people found this helpful  "
            ]
          },
          "metadata": {
            "tags": []
          },
          "execution_count": 2
        }
      ]
    },
    {
      "cell_type": "code",
      "metadata": {
        "id": "iZHk9lLdkCCv",
        "outputId": "211aefa8-4be6-4b13-e69b-ab5000320df3"
      },
      "source": [
        "list(Text_df)"
      ],
      "execution_count": null,
      "outputs": [
        {
          "output_type": "execute_result",
          "data": {
            "text/plain": [
              "['Product',\n",
              " 'Review_Subject',\n",
              " 'Review_Detail',\n",
              " 'Review_date',\n",
              " 'Rating',\n",
              " 'Product_spec',\n",
              " 'Purchaser',\n",
              " 'Reviewer',\n",
              " 'Usefulness']"
            ]
          },
          "metadata": {
            "tags": []
          },
          "execution_count": 3
        }
      ]
    },
    {
      "cell_type": "code",
      "metadata": {
        "id": "FB4J0_YgkCCy",
        "outputId": "c7fd49ab-91a3-481a-a768-83e6ae0241a2"
      },
      "source": [
        "Text_df.shape"
      ],
      "execution_count": null,
      "outputs": [
        {
          "output_type": "execute_result",
          "data": {
            "text/plain": [
              "(349, 9)"
            ]
          },
          "metadata": {
            "tags": []
          },
          "execution_count": 4
        }
      ]
    },
    {
      "cell_type": "code",
      "metadata": {
        "id": "JhzUL057kCC2"
      },
      "source": [
        "Text_df.drop(['Product','Product_spec','Purchaser','Reviewer','Usefulness'],axis=1,inplace=True)"
      ],
      "execution_count": null,
      "outputs": []
    },
    {
      "cell_type": "markdown",
      "metadata": {
        "id": "H2XExgLFkCC4"
      },
      "source": [
        "#### Word Count Distribution Function"
      ]
    },
    {
      "cell_type": "code",
      "metadata": {
        "id": "PBhi7CjOkCC4"
      },
      "source": [
        "import nltk\n",
        "from nltk import FreqDist "
      ],
      "execution_count": null,
      "outputs": []
    },
    {
      "cell_type": "code",
      "metadata": {
        "id": "0c27W5cxkCC7"
      },
      "source": [
        "# function to plot most frequent terms\n",
        "def freq_words(x, terms = 30):\n",
        "  all_words = ' '.join([text for text in x])\n",
        "  all_words = all_words.split()\n",
        "\n",
        "  fdist = FreqDist(all_words)\n",
        "  words_df = pd.DataFrame({'word':list(fdist.keys()), 'count':list(fdist.values())})\n",
        "\n",
        "  # selecting top 20 most frequent words\n",
        "  d = words_df.nlargest(columns=\"count\", n = terms) \n",
        "  plt.figure(figsize=(20,5))\n",
        "  ax = sns.barplot(data=d, x= \"word\", y = \"count\")\n",
        "  ax.set(ylabel = 'Count')\n",
        "  plt.show()"
      ],
      "execution_count": null,
      "outputs": []
    },
    {
      "cell_type": "code",
      "metadata": {
        "id": "0iv2soqlkCC9",
        "outputId": "770fa08f-508c-4a68-9d02-a4d9f624caff"
      },
      "source": [
        "# Checking the Word Frequency before the processing\n",
        "freq_words(Text_df['Review_Detail'].astype(str))"
      ],
      "execution_count": null,
      "outputs": [
        {
          "output_type": "display_data",
          "data": {
            "image/png": "[encoded data removed]",
            "text/plain": [
              "<Figure size 1440x360 with 1 Axes>"
            ]
          },
          "metadata": {
            "tags": []
          }
        }
      ]
    },
    {
      "cell_type": "code",
      "metadata": {
        "id": "CGo_yLZokCDC",
        "outputId": "b6374284-c273-4a65-e53e-6452c983f0e6"
      },
      "source": [
        "# Rating is fixed against a scale of 5 points\n",
        "Text_df['Rating'].head(5)"
      ],
      "execution_count": null,
      "outputs": [
        {
          "output_type": "execute_result",
          "data": {
            "text/plain": [
              "0    1.0 out of 5 stars\n",
              "1    1.0 out of 5 stars\n",
              "2    4.0 out of 5 stars\n",
              "3    5.0 out of 5 stars\n",
              "4    5.0 out of 5 stars\n",
              "Name: Rating, dtype: object"
            ]
          },
          "metadata": {
            "tags": []
          },
          "execution_count": 9
        }
      ]
    },
    {
      "cell_type": "code",
      "metadata": {
        "id": "D3vNreHtkCDG",
        "outputId": "12c1abc6-18f9-415b-db44-302548965e35"
      },
      "source": [
        "# Removing the Text from Rating\n",
        "Text_df['Cust_rating']=Text_df['Rating'].str.replace(' out of 5 stars', ' ')\n",
        "Text_df['Cust_rating'].head()"
      ],
      "execution_count": null,
      "outputs": [
        {
          "output_type": "execute_result",
          "data": {
            "text/plain": [
              "0    1.0 \n",
              "1    1.0 \n",
              "2    4.0 \n",
              "3    5.0 \n",
              "4    5.0 \n",
              "Name: Cust_rating, dtype: object"
            ]
          },
          "metadata": {
            "tags": []
          },
          "execution_count": 10
        }
      ]
    },
    {
      "cell_type": "code",
      "metadata": {
        "id": "uSzkFzFhkCDJ"
      },
      "source": [
        "# Dropping the Rating Column\n",
        "Text_df.drop(['Rating'],axis=1,inplace=True)"
      ],
      "execution_count": null,
      "outputs": []
    },
    {
      "cell_type": "code",
      "metadata": {
        "id": "lelWMWNUkCDM",
        "outputId": "b3da53cc-b465-45ad-d760-6c7d544871f0"
      },
      "source": [
        "Text_df.info()"
      ],
      "execution_count": null,
      "outputs": [
        {
          "output_type": "stream",
          "text": [
            "<class 'pandas.core.frame.DataFrame'>\n",
            "RangeIndex: 349 entries, 0 to 348\n",
            "Data columns (total 4 columns):\n",
            "Review_Subject    349 non-null object\n",
            "Review_Detail     349 non-null object\n",
            "Review_date       349 non-null object\n",
            "Cust_rating       349 non-null object\n",
            "dtypes: object(4)\n",
            "memory usage: 11.0+ KB\n"
          ],
          "name": "stdout"
        }
      ]
    },
    {
      "cell_type": "markdown",
      "metadata": {
        "id": "aA9EZTRYkCDQ"
      },
      "source": [
        "### Feature Extraction -  Step-1"
      ]
    },
    {
      "cell_type": "code",
      "metadata": {
        "id": "wZg4n__lkCDQ",
        "outputId": "953544c3-7612-4adf-f80f-1ce5b3abdb2f"
      },
      "source": [
        "# Word Count\n",
        "Text_df['word_count_pre'] = Text_df['Review_Detail'].apply(lambda x: len(str(x).split(\" \")))\n",
        "Text_df[['Review_Detail','word_count_pre']].head()"
      ],
      "execution_count": null,
      "outputs": [
        {
          "output_type": "execute_result",
          "data": {
            "text/html": [
              "<div>\n",
              "<style scoped>\n",
              "    .dataframe tbody tr th:only-of-type {\n",
              "        vertical-align: middle;\n",
              "    }\n",
              "\n",
              "    .dataframe tbody tr th {\n",
              "        vertical-align: top;\n",
              "    }\n",
              "\n",
              "    .dataframe thead th {\n",
              "        text-align: right;\n",
              "    }\n",
              "</style>\n",
              "<table border=\"1\" class=\"dataframe\">\n",
              "  <thead>\n",
              "    <tr style=\"text-align: right;\">\n",
              "      <th></th>\n",
              "      <th>Review_Detail</th>\n",
              "      <th>word_count_pre</th>\n",
              "    </tr>\n",
              "  </thead>\n",
              "  <tbody>\n",
              "    <tr>\n",
              "      <th>0</th>\n",
              "      <td>Hi all,\\nWhen we just keep the mobile in hand ...</td>\n",
              "      <td>73</td>\n",
              "    </tr>\n",
              "    <tr>\n",
              "      <th>1</th>\n",
              "      <td>its automatically rebooting and freezing 20 to...</td>\n",
              "      <td>64</td>\n",
              "    </tr>\n",
              "    <tr>\n",
              "      <th>2</th>\n",
              "      <td>Battery backup is too good\\nyou can play hd ga...</td>\n",
              "      <td>56</td>\n",
              "    </tr>\n",
              "    <tr>\n",
              "      <th>3</th>\n",
              "      <td>Best in the segment. I ordered it for my siste...</td>\n",
              "      <td>61</td>\n",
              "    </tr>\n",
              "    <tr>\n",
              "      <th>4</th>\n",
              "      <td>I love xiaomi product because I am using Mi Ma...</td>\n",
              "      <td>27</td>\n",
              "    </tr>\n",
              "  </tbody>\n",
              "</table>\n",
              "</div>"
            ],
            "text/plain": [
              "                                       Review_Detail  word_count_pre\n",
              "0  Hi all,\\nWhen we just keep the mobile in hand ...              73\n",
              "1  its automatically rebooting and freezing 20 to...              64\n",
              "2  Battery backup is too good\\nyou can play hd ga...              56\n",
              "3  Best in the segment. I ordered it for my siste...              61\n",
              "4  I love xiaomi product because I am using Mi Ma...              27"
            ]
          },
          "metadata": {
            "tags": []
          },
          "execution_count": 13
        }
      ]
    },
    {
      "cell_type": "code",
      "metadata": {
        "id": "I6zNtVxCkCDU",
        "outputId": "94238324-e56d-4177-d34b-5401884b15bb"
      },
      "source": [
        "# Char Count\n",
        "Text_df['char_count_pre'] = Text_df['Review_Detail'].str.len()\n",
        "Text_df[['Review_Detail','word_count_pre','char_count_pre']].head()"
      ],
      "execution_count": null,
      "outputs": [
        {
          "output_type": "execute_result",
          "data": {
            "text/html": [
              "<div>\n",
              "<style scoped>\n",
              "    .dataframe tbody tr th:only-of-type {\n",
              "        vertical-align: middle;\n",
              "    }\n",
              "\n",
              "    .dataframe tbody tr th {\n",
              "        vertical-align: top;\n",
              "    }\n",
              "\n",
              "    .dataframe thead th {\n",
              "        text-align: right;\n",
              "    }\n",
              "</style>\n",
              "<table border=\"1\" class=\"dataframe\">\n",
              "  <thead>\n",
              "    <tr style=\"text-align: right;\">\n",
              "      <th></th>\n",
              "      <th>Review_Detail</th>\n",
              "      <th>word_count_pre</th>\n",
              "      <th>char_count_pre</th>\n",
              "    </tr>\n",
              "  </thead>\n",
              "  <tbody>\n",
              "    <tr>\n",
              "      <th>0</th>\n",
              "      <td>Hi all,\\nWhen we just keep the mobile in hand ...</td>\n",
              "      <td>73</td>\n",
              "      <td>397</td>\n",
              "    </tr>\n",
              "    <tr>\n",
              "      <th>1</th>\n",
              "      <td>its automatically rebooting and freezing 20 to...</td>\n",
              "      <td>64</td>\n",
              "      <td>365</td>\n",
              "    </tr>\n",
              "    <tr>\n",
              "      <th>2</th>\n",
              "      <td>Battery backup is too good\\nyou can play hd ga...</td>\n",
              "      <td>56</td>\n",
              "      <td>327</td>\n",
              "    </tr>\n",
              "    <tr>\n",
              "      <th>3</th>\n",
              "      <td>Best in the segment. I ordered it for my siste...</td>\n",
              "      <td>61</td>\n",
              "      <td>334</td>\n",
              "    </tr>\n",
              "    <tr>\n",
              "      <th>4</th>\n",
              "      <td>I love xiaomi product because I am using Mi Ma...</td>\n",
              "      <td>27</td>\n",
              "      <td>135</td>\n",
              "    </tr>\n",
              "  </tbody>\n",
              "</table>\n",
              "</div>"
            ],
            "text/plain": [
              "                                       Review_Detail  word_count_pre  \\\n",
              "0  Hi all,\\nWhen we just keep the mobile in hand ...              73   \n",
              "1  its automatically rebooting and freezing 20 to...              64   \n",
              "2  Battery backup is too good\\nyou can play hd ga...              56   \n",
              "3  Best in the segment. I ordered it for my siste...              61   \n",
              "4  I love xiaomi product because I am using Mi Ma...              27   \n",
              "\n",
              "   char_count_pre  \n",
              "0             397  \n",
              "1             365  \n",
              "2             327  \n",
              "3             334  \n",
              "4             135  "
            ]
          },
          "metadata": {
            "tags": []
          },
          "execution_count": 14
        }
      ]
    },
    {
      "cell_type": "markdown",
      "metadata": {
        "id": "qmaJfJfhkCDZ"
      },
      "source": [
        "### Text Pre-Processing (Step-1)"
      ]
    },
    {
      "cell_type": "code",
      "metadata": {
        "id": "ZipdMVJ6kCDa",
        "outputId": "358ff7a7-54e0-4afc-8cf7-9bc309eea95e"
      },
      "source": [
        "# Converting All the Text to Lower Case\n",
        "Text_df['Review_Detail'] = (Text_df['Review_Detail'].astype(str)).apply(lambda x: \" \".join(x.lower() for x in x.split()))\n",
        "Text_df['Review_Detail'].head()"
      ],
      "execution_count": null,
      "outputs": [
        {
          "output_type": "execute_result",
          "data": {
            "text/plain": [
              "0    hi all, when we just keep the mobile in hand f...\n",
              "1    its automatically rebooting and freezing 20 to...\n",
              "2    battery backup is too good you can play hd gam...\n",
              "3    best in the segment. i ordered it for my siste...\n",
              "4    i love xiaomi product because i am using mi ma...\n",
              "Name: Review_Detail, dtype: object"
            ]
          },
          "metadata": {
            "tags": []
          },
          "execution_count": 15
        }
      ]
    },
    {
      "cell_type": "code",
      "metadata": {
        "id": "kCQ4RR2GkCDh",
        "outputId": "b284fd81-68a1-46cc-b8fd-f3370164d004"
      },
      "source": [
        "#Replacing the Special Characters. Retaining only the Alphabets and Numbers\n",
        "Text_df['Review_Detail'] = Text_df['Review_Detail'].str.replace('\\W+', ' ')\n",
        "Text_df['Review_Detail'].head() "
      ],
      "execution_count": null,
      "outputs": [
        {
          "output_type": "execute_result",
          "data": {
            "text/plain": [
              "0    hi all when we just keep the mobile in hand fo...\n",
              "1    its automatically rebooting and freezing 20 to...\n",
              "2    battery backup is too good you can play hd gam...\n",
              "3    best in the segment i ordered it for my sister...\n",
              "4    i love xiaomi product because i am using mi ma...\n",
              "Name: Review_Detail, dtype: object"
            ]
          },
          "metadata": {
            "tags": []
          },
          "execution_count": 16
        }
      ]
    },
    {
      "cell_type": "markdown",
      "metadata": {
        "id": "t_uDJ9FDkCDm"
      },
      "source": [
        "## Feature Extraction -  Step-2"
      ]
    },
    {
      "cell_type": "code",
      "metadata": {
        "id": "JkIQxi0_kCDn",
        "outputId": "606b332f-b131-4d0d-bc6b-356187e8c6ad"
      },
      "source": [
        "# Word Count\n",
        "Text_df['word_count'] = Text_df['Review_Detail'].apply(lambda x: len(str(x).split(\" \")))\n",
        "Text_df[['Review_Detail','word_count']].head()"
      ],
      "execution_count": null,
      "outputs": [
        {
          "output_type": "execute_result",
          "data": {
            "text/html": [
              "<div>\n",
              "<style scoped>\n",
              "    .dataframe tbody tr th:only-of-type {\n",
              "        vertical-align: middle;\n",
              "    }\n",
              "\n",
              "    .dataframe tbody tr th {\n",
              "        vertical-align: top;\n",
              "    }\n",
              "\n",
              "    .dataframe thead th {\n",
              "        text-align: right;\n",
              "    }\n",
              "</style>\n",
              "<table border=\"1\" class=\"dataframe\">\n",
              "  <thead>\n",
              "    <tr style=\"text-align: right;\">\n",
              "      <th></th>\n",
              "      <th>Review_Detail</th>\n",
              "      <th>word_count</th>\n",
              "    </tr>\n",
              "  </thead>\n",
              "  <tbody>\n",
              "    <tr>\n",
              "      <th>0</th>\n",
              "      <td>hi all when we just keep the mobile in hand fo...</td>\n",
              "      <td>80</td>\n",
              "    </tr>\n",
              "    <tr>\n",
              "      <th>1</th>\n",
              "      <td>its automatically rebooting and freezing 20 to...</td>\n",
              "      <td>65</td>\n",
              "    </tr>\n",
              "    <tr>\n",
              "      <th>2</th>\n",
              "      <td>battery backup is too good you can play hd gam...</td>\n",
              "      <td>64</td>\n",
              "    </tr>\n",
              "    <tr>\n",
              "      <th>3</th>\n",
              "      <td>best in the segment i ordered it for my sister...</td>\n",
              "      <td>63</td>\n",
              "    </tr>\n",
              "    <tr>\n",
              "      <th>4</th>\n",
              "      <td>i love xiaomi product because i am using mi ma...</td>\n",
              "      <td>28</td>\n",
              "    </tr>\n",
              "  </tbody>\n",
              "</table>\n",
              "</div>"
            ],
            "text/plain": [
              "                                       Review_Detail  word_count\n",
              "0  hi all when we just keep the mobile in hand fo...          80\n",
              "1  its automatically rebooting and freezing 20 to...          65\n",
              "2  battery backup is too good you can play hd gam...          64\n",
              "3  best in the segment i ordered it for my sister...          63\n",
              "4  i love xiaomi product because i am using mi ma...          28"
            ]
          },
          "metadata": {
            "tags": []
          },
          "execution_count": 17
        }
      ]
    },
    {
      "cell_type": "code",
      "metadata": {
        "id": "0m4HpEFWkCDt",
        "outputId": "fa7b7a84-0e05-44ea-c2bb-cd40784f88a0"
      },
      "source": [
        "# Char Count\n",
        "Text_df['char_count'] = Text_df['Review_Detail'].str.len()\n",
        "Text_df[['Review_Detail','word_count','char_count']].head()"
      ],
      "execution_count": null,
      "outputs": [
        {
          "output_type": "execute_result",
          "data": {
            "text/html": [
              "<div>\n",
              "<style scoped>\n",
              "    .dataframe tbody tr th:only-of-type {\n",
              "        vertical-align: middle;\n",
              "    }\n",
              "\n",
              "    .dataframe tbody tr th {\n",
              "        vertical-align: top;\n",
              "    }\n",
              "\n",
              "    .dataframe thead th {\n",
              "        text-align: right;\n",
              "    }\n",
              "</style>\n",
              "<table border=\"1\" class=\"dataframe\">\n",
              "  <thead>\n",
              "    <tr style=\"text-align: right;\">\n",
              "      <th></th>\n",
              "      <th>Review_Detail</th>\n",
              "      <th>word_count</th>\n",
              "      <th>char_count</th>\n",
              "    </tr>\n",
              "  </thead>\n",
              "  <tbody>\n",
              "    <tr>\n",
              "      <th>0</th>\n",
              "      <td>hi all when we just keep the mobile in hand fo...</td>\n",
              "      <td>80</td>\n",
              "      <td>388</td>\n",
              "    </tr>\n",
              "    <tr>\n",
              "      <th>1</th>\n",
              "      <td>its automatically rebooting and freezing 20 to...</td>\n",
              "      <td>65</td>\n",
              "      <td>355</td>\n",
              "    </tr>\n",
              "    <tr>\n",
              "      <th>2</th>\n",
              "      <td>battery backup is too good you can play hd gam...</td>\n",
              "      <td>64</td>\n",
              "      <td>322</td>\n",
              "    </tr>\n",
              "    <tr>\n",
              "      <th>3</th>\n",
              "      <td>best in the segment i ordered it for my sister...</td>\n",
              "      <td>63</td>\n",
              "      <td>326</td>\n",
              "    </tr>\n",
              "    <tr>\n",
              "      <th>4</th>\n",
              "      <td>i love xiaomi product because i am using mi ma...</td>\n",
              "      <td>28</td>\n",
              "      <td>135</td>\n",
              "    </tr>\n",
              "  </tbody>\n",
              "</table>\n",
              "</div>"
            ],
            "text/plain": [
              "                                       Review_Detail  word_count  char_count\n",
              "0  hi all when we just keep the mobile in hand fo...          80         388\n",
              "1  its automatically rebooting and freezing 20 to...          65         355\n",
              "2  battery backup is too good you can play hd gam...          64         322\n",
              "3  best in the segment i ordered it for my sister...          63         326\n",
              "4  i love xiaomi product because i am using mi ma...          28         135"
            ]
          },
          "metadata": {
            "tags": []
          },
          "execution_count": 18
        }
      ]
    },
    {
      "cell_type": "code",
      "metadata": {
        "id": "ko3FJPPhkCDw",
        "outputId": "59ab87f6-232f-4cf2-cc1d-6d93a1f8eb6a"
      },
      "source": [
        "# Identifying the Stop words Count\n",
        "from nltk.corpus import stopwords\n",
        "stop = stopwords.words('english')\n",
        " \n",
        "Text_df['stopwords'] = Text_df['Review_Detail'].apply(lambda x: len([x for x in x.split() if x in stop]))\n",
        "Text_df[['Review_Detail','stopwords']].head()"
      ],
      "execution_count": null,
      "outputs": [
        {
          "output_type": "execute_result",
          "data": {
            "text/html": [
              "<div>\n",
              "<style scoped>\n",
              "    .dataframe tbody tr th:only-of-type {\n",
              "        vertical-align: middle;\n",
              "    }\n",
              "\n",
              "    .dataframe tbody tr th {\n",
              "        vertical-align: top;\n",
              "    }\n",
              "\n",
              "    .dataframe thead th {\n",
              "        text-align: right;\n",
              "    }\n",
              "</style>\n",
              "<table border=\"1\" class=\"dataframe\">\n",
              "  <thead>\n",
              "    <tr style=\"text-align: right;\">\n",
              "      <th></th>\n",
              "      <th>Review_Detail</th>\n",
              "      <th>stopwords</th>\n",
              "    </tr>\n",
              "  </thead>\n",
              "  <tbody>\n",
              "    <tr>\n",
              "      <th>0</th>\n",
              "      <td>hi all when we just keep the mobile in hand fo...</td>\n",
              "      <td>45</td>\n",
              "    </tr>\n",
              "    <tr>\n",
              "      <th>1</th>\n",
              "      <td>its automatically rebooting and freezing 20 to...</td>\n",
              "      <td>28</td>\n",
              "    </tr>\n",
              "    <tr>\n",
              "      <th>2</th>\n",
              "      <td>battery backup is too good you can play hd gam...</td>\n",
              "      <td>23</td>\n",
              "    </tr>\n",
              "    <tr>\n",
              "      <th>3</th>\n",
              "      <td>best in the segment i ordered it for my sister...</td>\n",
              "      <td>28</td>\n",
              "    </tr>\n",
              "    <tr>\n",
              "      <th>4</th>\n",
              "      <td>i love xiaomi product because i am using mi ma...</td>\n",
              "      <td>12</td>\n",
              "    </tr>\n",
              "  </tbody>\n",
              "</table>\n",
              "</div>"
            ],
            "text/plain": [
              "                                       Review_Detail  stopwords\n",
              "0  hi all when we just keep the mobile in hand fo...         45\n",
              "1  its automatically rebooting and freezing 20 to...         28\n",
              "2  battery backup is too good you can play hd gam...         23\n",
              "3  best in the segment i ordered it for my sister...         28\n",
              "4  i love xiaomi product because i am using mi ma...         12"
            ]
          },
          "metadata": {
            "tags": []
          },
          "execution_count": 19
        }
      ]
    },
    {
      "cell_type": "code",
      "metadata": {
        "id": "doje2916kCDz",
        "outputId": "7047282c-bef7-4cb5-fa13-4ac2d6cc2c58"
      },
      "source": [
        "# Identifying the number of Numerics\n",
        "Text_df['numerics'] = Text_df['Review_Detail'].apply(lambda x: len([x for x in x.split() if x.isdigit()]))\n",
        "Text_df[['Review_Detail','numerics']].head()"
      ],
      "execution_count": null,
      "outputs": [
        {
          "output_type": "execute_result",
          "data": {
            "text/html": [
              "<div>\n",
              "<style scoped>\n",
              "    .dataframe tbody tr th:only-of-type {\n",
              "        vertical-align: middle;\n",
              "    }\n",
              "\n",
              "    .dataframe tbody tr th {\n",
              "        vertical-align: top;\n",
              "    }\n",
              "\n",
              "    .dataframe thead th {\n",
              "        text-align: right;\n",
              "    }\n",
              "</style>\n",
              "<table border=\"1\" class=\"dataframe\">\n",
              "  <thead>\n",
              "    <tr style=\"text-align: right;\">\n",
              "      <th></th>\n",
              "      <th>Review_Detail</th>\n",
              "      <th>numerics</th>\n",
              "    </tr>\n",
              "  </thead>\n",
              "  <tbody>\n",
              "    <tr>\n",
              "      <th>0</th>\n",
              "      <td>hi all when we just keep the mobile in hand fo...</td>\n",
              "      <td>1</td>\n",
              "    </tr>\n",
              "    <tr>\n",
              "      <th>1</th>\n",
              "      <td>its automatically rebooting and freezing 20 to...</td>\n",
              "      <td>5</td>\n",
              "    </tr>\n",
              "    <tr>\n",
              "      <th>2</th>\n",
              "      <td>battery backup is too good you can play hd gam...</td>\n",
              "      <td>0</td>\n",
              "    </tr>\n",
              "    <tr>\n",
              "      <th>3</th>\n",
              "      <td>best in the segment i ordered it for my sister...</td>\n",
              "      <td>1</td>\n",
              "    </tr>\n",
              "    <tr>\n",
              "      <th>4</th>\n",
              "      <td>i love xiaomi product because i am using mi ma...</td>\n",
              "      <td>1</td>\n",
              "    </tr>\n",
              "  </tbody>\n",
              "</table>\n",
              "</div>"
            ],
            "text/plain": [
              "                                       Review_Detail  numerics\n",
              "0  hi all when we just keep the mobile in hand fo...         1\n",
              "1  its automatically rebooting and freezing 20 to...         5\n",
              "2  battery backup is too good you can play hd gam...         0\n",
              "3  best in the segment i ordered it for my sister...         1\n",
              "4  i love xiaomi product because i am using mi ma...         1"
            ]
          },
          "metadata": {
            "tags": []
          },
          "execution_count": 20
        }
      ]
    },
    {
      "cell_type": "code",
      "metadata": {
        "id": "_soWHGjXkCD3",
        "outputId": "77ff02fd-a547-4be1-d55a-e9543b227a0b"
      },
      "source": [
        "# Printing the Dataframe - after first step of pre-processing\n",
        "Text_df.head(5)"
      ],
      "execution_count": null,
      "outputs": [
        {
          "output_type": "execute_result",
          "data": {
            "text/html": [
              "<div>\n",
              "<style scoped>\n",
              "    .dataframe tbody tr th:only-of-type {\n",
              "        vertical-align: middle;\n",
              "    }\n",
              "\n",
              "    .dataframe tbody tr th {\n",
              "        vertical-align: top;\n",
              "    }\n",
              "\n",
              "    .dataframe thead th {\n",
              "        text-align: right;\n",
              "    }\n",
              "</style>\n",
              "<table border=\"1\" class=\"dataframe\">\n",
              "  <thead>\n",
              "    <tr style=\"text-align: right;\">\n",
              "      <th></th>\n",
              "      <th>Review_Subject</th>\n",
              "      <th>Review_Detail</th>\n",
              "      <th>Review_date</th>\n",
              "      <th>Cust_rating</th>\n",
              "      <th>word_count_pre</th>\n",
              "      <th>char_count_pre</th>\n",
              "      <th>word_count</th>\n",
              "      <th>char_count</th>\n",
              "      <th>stopwords</th>\n",
              "      <th>numerics</th>\n",
              "    </tr>\n",
              "  </thead>\n",
              "  <tbody>\n",
              "    <tr>\n",
              "      <th>0</th>\n",
              "      <td>Hands are getting vibrated when keep in hand f...</td>\n",
              "      <td>hi all when we just keep the mobile in hand fo...</td>\n",
              "      <td>10-Sep-18</td>\n",
              "      <td>1.0</td>\n",
              "      <td>73</td>\n",
              "      <td>397</td>\n",
              "      <td>80</td>\n",
              "      <td>388</td>\n",
              "      <td>45</td>\n",
              "      <td>1</td>\n",
              "    </tr>\n",
              "    <tr>\n",
              "      <th>1</th>\n",
              "      <td>dont buy the REDMI 5</td>\n",
              "      <td>its automatically rebooting and freezing 20 to...</td>\n",
              "      <td>19-Sep-18</td>\n",
              "      <td>1.0</td>\n",
              "      <td>64</td>\n",
              "      <td>365</td>\n",
              "      <td>65</td>\n",
              "      <td>355</td>\n",
              "      <td>28</td>\n",
              "      <td>5</td>\n",
              "    </tr>\n",
              "    <tr>\n",
              "      <th>2</th>\n",
              "      <td>Product for average price with best Quality..!</td>\n",
              "      <td>battery backup is too good you can play hd gam...</td>\n",
              "      <td>25-Sep-18</td>\n",
              "      <td>4.0</td>\n",
              "      <td>56</td>\n",
              "      <td>327</td>\n",
              "      <td>64</td>\n",
              "      <td>322</td>\n",
              "      <td>23</td>\n",
              "      <td>0</td>\n",
              "    </tr>\n",
              "    <tr>\n",
              "      <th>3</th>\n",
              "      <td>Great phone @ super great price</td>\n",
              "      <td>best in the segment i ordered it for my sister...</td>\n",
              "      <td>21-Sep-18</td>\n",
              "      <td>5.0</td>\n",
              "      <td>61</td>\n",
              "      <td>334</td>\n",
              "      <td>63</td>\n",
              "      <td>326</td>\n",
              "      <td>28</td>\n",
              "      <td>1</td>\n",
              "    </tr>\n",
              "    <tr>\n",
              "      <th>4</th>\n",
              "      <td>Fast working phone.</td>\n",
              "      <td>i love xiaomi product because i am using mi ma...</td>\n",
              "      <td>06-Aug-18</td>\n",
              "      <td>5.0</td>\n",
              "      <td>27</td>\n",
              "      <td>135</td>\n",
              "      <td>28</td>\n",
              "      <td>135</td>\n",
              "      <td>12</td>\n",
              "      <td>1</td>\n",
              "    </tr>\n",
              "  </tbody>\n",
              "</table>\n",
              "</div>"
            ],
            "text/plain": [
              "                                      Review_Subject  \\\n",
              "0  Hands are getting vibrated when keep in hand f...   \n",
              "1                               dont buy the REDMI 5   \n",
              "2     Product for average price with best Quality..!   \n",
              "3                    Great phone @ super great price   \n",
              "4                                Fast working phone.   \n",
              "\n",
              "                                       Review_Detail Review_date Cust_rating  \\\n",
              "0  hi all when we just keep the mobile in hand fo...   10-Sep-18        1.0    \n",
              "1  its automatically rebooting and freezing 20 to...   19-Sep-18        1.0    \n",
              "2  battery backup is too good you can play hd gam...   25-Sep-18        4.0    \n",
              "3  best in the segment i ordered it for my sister...   21-Sep-18        5.0    \n",
              "4  i love xiaomi product because i am using mi ma...   06-Aug-18        5.0    \n",
              "\n",
              "   word_count_pre  char_count_pre  word_count  char_count  stopwords  numerics  \n",
              "0              73             397          80         388         45         1  \n",
              "1              64             365          65         355         28         5  \n",
              "2              56             327          64         322         23         0  \n",
              "3              61             334          63         326         28         1  \n",
              "4              27             135          28         135         12         1  "
            ]
          },
          "metadata": {
            "tags": []
          },
          "execution_count": 21
        }
      ]
    },
    {
      "cell_type": "markdown",
      "metadata": {
        "id": "PVH-c70ukCD5"
      },
      "source": [
        "### Text Pre-Processing -2"
      ]
    },
    {
      "cell_type": "code",
      "metadata": {
        "id": "lK9OIcLekCD7",
        "outputId": "710a19db-ce5f-44bc-9f26-9498ce4d54c4"
      },
      "source": [
        "## Removing the Stop Words\n",
        "from nltk.corpus import stopwords\n",
        "stop = stopwords.words('english')\n",
        "Text_df['Review_Detail'] = Text_df['Review_Detail'].apply(lambda x: \" \".join(x for x in x.split() if x not in stop))\n",
        "Text_df['Review_Detail'].head()"
      ],
      "execution_count": null,
      "outputs": [
        {
          "output_type": "execute_result",
          "data": {
            "text/plain": [
              "0    hi keep mobile hand 1 minute use hands getting...\n",
              "1    automatically rebooting freezing 20 30 times d...\n",
              "2    battery backup good play hd games free lags li...\n",
              "3    best segment ordered sister rakshabandhan casu...\n",
              "4    love xiaomi product using mi max feb 2017 comp...\n",
              "Name: Review_Detail, dtype: object"
            ]
          },
          "metadata": {
            "tags": []
          },
          "execution_count": 22
        }
      ]
    },
    {
      "cell_type": "code",
      "metadata": {
        "id": "IOu0wEZfkCEB"
      },
      "source": [
        "# Performing the Text Correction before removing the Rare words"
      ],
      "execution_count": null,
      "outputs": []
    },
    {
      "cell_type": "code",
      "metadata": {
        "id": "TJJiuqrgkCEE",
        "outputId": "bc2f6692-74b2-4e53-cc84-aa8b3ff5f75b"
      },
      "source": [
        "!pip install textblob\n",
        "from textblob import TextBlob\n",
        "Text_df['Review_Detail'] = Text_df['Review_Detail'].apply(lambda x: str(TextBlob(x).correct()))"
      ],
      "execution_count": null,
      "outputs": [
        {
          "output_type": "stream",
          "text": [
            "Requirement already satisfied: textblob in c:\\users\\test\\python\\lib\\site-packages (0.15.2)\n",
            "Requirement already satisfied: nltk>=3.1 in c:\\users\\test\\python\\lib\\site-packages (from textblob) (3.3)\n",
            "Requirement already satisfied: six in c:\\users\\test\\python\\lib\\site-packages (from nltk>=3.1->textblob) (1.11.0)\n"
          ],
          "name": "stdout"
        }
      ]
    },
    {
      "cell_type": "code",
      "metadata": {
        "id": "Ul49SnAEkCEK",
        "outputId": "259d6479-7b90-41b9-91ee-6984be0294f8"
      },
      "source": [
        "# Performing Lemmation to convert the words to their Root Words\n",
        "!pip install nltk\n",
        "from textblob import Word\n",
        "Text_df['Review_Detail'] = Text_df['Review_Detail'].apply(lambda x: \" \".join([Word(word).lemmatize() for word in x.split()]))"
      ],
      "execution_count": null,
      "outputs": [
        {
          "output_type": "stream",
          "text": [
            "Requirement already satisfied: nltk in c:\\users\\test\\python\\lib\\site-packages (3.3)\n",
            "Requirement already satisfied: six in c:\\users\\test\\python\\lib\\site-packages (from nltk) (1.11.0)\n"
          ],
          "name": "stdout"
        }
      ]
    },
    {
      "cell_type": "code",
      "metadata": {
        "id": "pabOffNvkCEO",
        "outputId": "6044ac1b-89cb-4476-be2d-2571360ea070"
      },
      "source": [
        "# Checking for least Freq Words\n",
        "freq = pd.Series(' '.join(Text_df['Review_Detail']).split()).value_counts()[-20:]\n",
        "freq"
      ],
      "execution_count": null,
      "outputs": [
        {
          "output_type": "execute_result",
          "data": {
            "text/plain": [
              "fool         1\n",
              "edited       1\n",
              "wallpaper    1\n",
              "supposed     1\n",
              "detriment    1\n",
              "ne           1\n",
              "opinion      1\n",
              "lovely       1\n",
              "cloudtail    1\n",
              "encounter    1\n",
              "rock         1\n",
              "expanded     1\n",
              "coronet      1\n",
              "frame        1\n",
              "shorter      1\n",
              "e            1\n",
              "hard         1\n",
              "drainage     1\n",
              "promised     1\n",
              "aspect       1\n",
              "dtype: int64"
            ]
          },
          "metadata": {
            "tags": []
          },
          "execution_count": 26
        }
      ]
    },
    {
      "cell_type": "code",
      "metadata": {
        "id": "WNLX2G1mkCET",
        "outputId": "cc440da0-efb3-4ba2-fb42-5806cdb5fa7f"
      },
      "source": [
        "# Removing the Rare Frequency words since they do not influence much\n",
        "freq = list(freq.index)\n",
        "Text_df['Review_Detail'] = Text_df['Review_Detail'].apply(lambda x: \" \".join(x for x in x.split() if x not in freq))\n",
        "Text_df['Review_Detail'].head()"
      ],
      "execution_count": null,
      "outputs": [
        {
          "output_type": "execute_result",
          "data": {
            "text/plain": [
              "0    hi keep mobile hand 1 minute use hand getting ...\n",
              "1    automatically reporting freezing 20 30 time da...\n",
              "2    battery back good play he game free law like p...\n",
              "3    best segment ordered sister rakshabandhan casu...\n",
              "4    love xiaomi product using mi max feb 2017 comp...\n",
              "Name: Review_Detail, dtype: object"
            ]
          },
          "metadata": {
            "tags": []
          },
          "execution_count": 27
        }
      ]
    },
    {
      "cell_type": "code",
      "metadata": {
        "id": "b2ciUqRqkCEY",
        "outputId": "90106c81-a814-40d5-d2db-9befd97c78ec"
      },
      "source": [
        "freq_words(Text_df['Review_Detail'].astype(str))"
      ],
      "execution_count": null,
      "outputs": [
        {
          "output_type": "display_data",
          "data": {
            "image/png": "[encoded data removed]",
            "text/plain": [
              "<Figure size 1440x360 with 1 Axes>"
            ]
          },
          "metadata": {
            "tags": []
          }
        }
      ]
    },
    {
      "cell_type": "code",
      "metadata": {
        "id": "i5Nn07HZkCEf",
        "outputId": "4c176dea-9a81-44bb-d6f7-3ef246eeed72"
      },
      "source": [
        "# Performing the Word Count after TExt processing\n",
        "Text_df['word_count_post'] = Text_df['Review_Detail'].apply(lambda x: len(str(x).split(\" \")))\n",
        "# Char Count\n",
        "Text_df['char_count_post'] = Text_df['Review_Detail'].str.len()\n",
        "Text_df[['Review_Detail','word_count_pre','word_count_post','char_count','char_count_post']].head()"
      ],
      "execution_count": null,
      "outputs": [
        {
          "output_type": "execute_result",
          "data": {
            "text/html": [
              "<div>\n",
              "<style scoped>\n",
              "    .dataframe tbody tr th:only-of-type {\n",
              "        vertical-align: middle;\n",
              "    }\n",
              "\n",
              "    .dataframe tbody tr th {\n",
              "        vertical-align: top;\n",
              "    }\n",
              "\n",
              "    .dataframe thead th {\n",
              "        text-align: right;\n",
              "    }\n",
              "</style>\n",
              "<table border=\"1\" class=\"dataframe\">\n",
              "  <thead>\n",
              "    <tr style=\"text-align: right;\">\n",
              "      <th></th>\n",
              "      <th>Review_Detail</th>\n",
              "      <th>word_count_pre</th>\n",
              "      <th>word_count_post</th>\n",
              "      <th>char_count</th>\n",
              "      <th>char_count_post</th>\n",
              "    </tr>\n",
              "  </thead>\n",
              "  <tbody>\n",
              "    <tr>\n",
              "      <th>0</th>\n",
              "      <td>hi keep mobile hand 1 minute use hand getting ...</td>\n",
              "      <td>73</td>\n",
              "      <td>35</td>\n",
              "      <td>388</td>\n",
              "      <td>218</td>\n",
              "    </tr>\n",
              "    <tr>\n",
              "      <th>1</th>\n",
              "      <td>automatically reporting freezing 20 30 time da...</td>\n",
              "      <td>64</td>\n",
              "      <td>36</td>\n",
              "      <td>355</td>\n",
              "      <td>239</td>\n",
              "    </tr>\n",
              "    <tr>\n",
              "      <th>2</th>\n",
              "      <td>battery back good play he game free law like p...</td>\n",
              "      <td>56</td>\n",
              "      <td>40</td>\n",
              "      <td>322</td>\n",
              "      <td>223</td>\n",
              "    </tr>\n",
              "    <tr>\n",
              "      <th>3</th>\n",
              "      <td>best segment ordered sister rakshabandhan casu...</td>\n",
              "      <td>61</td>\n",
              "      <td>34</td>\n",
              "      <td>326</td>\n",
              "      <td>228</td>\n",
              "    </tr>\n",
              "    <tr>\n",
              "      <th>4</th>\n",
              "      <td>love xiaomi product using mi max feb 2017 comp...</td>\n",
              "      <td>27</td>\n",
              "      <td>15</td>\n",
              "      <td>135</td>\n",
              "      <td>83</td>\n",
              "    </tr>\n",
              "  </tbody>\n",
              "</table>\n",
              "</div>"
            ],
            "text/plain": [
              "                                       Review_Detail  word_count_pre  \\\n",
              "0  hi keep mobile hand 1 minute use hand getting ...              73   \n",
              "1  automatically reporting freezing 20 30 time da...              64   \n",
              "2  battery back good play he game free law like p...              56   \n",
              "3  best segment ordered sister rakshabandhan casu...              61   \n",
              "4  love xiaomi product using mi max feb 2017 comp...              27   \n",
              "\n",
              "   word_count_post  char_count  char_count_post  \n",
              "0               35         388              218  \n",
              "1               36         355              239  \n",
              "2               40         322              223  \n",
              "3               34         326              228  \n",
              "4               15         135               83  "
            ]
          },
          "metadata": {
            "tags": []
          },
          "execution_count": 29
        }
      ]
    },
    {
      "cell_type": "code",
      "metadata": {
        "id": "p-P6zXbUkCEj"
      },
      "source": [
        ""
      ],
      "execution_count": null,
      "outputs": []
    }
  ]
}